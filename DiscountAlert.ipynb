{
 "cells": [
  {
   "attachments": {},
   "cell_type": "markdown",
   "metadata": {},
   "source": [
    "\"What are some ways to extract information from a website that doesn't have an export option?\"\n",
    "\n",
    "The reason behind this question was my need to keep a watchful eye on product prices listed on Flipkart and Amazon, and be notified when the prices hit their lowest point."
   ]
  },
  {
   "attachments": {},
   "cell_type": "markdown",
   "metadata": {},
   "source": [
    "Considering that others might also require to monitor product prices from websites, I decided to share a program that emulates web browsing behavior, enables easy data storage and retrieval, and can even send alerts via email when prices reach a minimum from first day of monitoring."
   ]
  },
  {
   "attachments": {},
   "cell_type": "markdown",
   "metadata": {},
   "source": [
    "Requirements :\n",
    "\n",
    "Python (I use 3.11.1)\n",
    "\n",
    "With Libraries and Dependencies:\n",
    "    1. BeautifulSoup.\n",
    "    2. 'Requests: HTTP for Humans' library.\n",
    "    3. Smtplib\n",
    "    4. csv\n",
    "    5. datetime\n",
    "    6. os\n",
    "    7. MIMEText"
   ]
  },
  {
   "cell_type": "code",
   "execution_count": null,
   "metadata": {},
   "outputs": [],
   "source": [
    "#Importing libraries\n",
    "\n",
    "from bs4 import BeautifulSoup\n",
    "import requests\n",
    "import smtplib\n",
    "import csv \n",
    "import datetime\n",
    "import os.path\n",
    "from email.mime.text import MIMEText"
   ]
  },
  {
   "cell_type": "code",
   "execution_count": null,
   "metadata": {},
   "outputs": [],
   "source": []
  }
 ],
 "metadata": {
  "language_info": {
   "name": "python"
  },
  "orig_nbformat": 4
 },
 "nbformat": 4,
 "nbformat_minor": 2
}
